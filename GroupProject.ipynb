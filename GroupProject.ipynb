{
 "cells": [
  {
   "cell_type": "code",
   "execution_count": 47,
   "metadata": {},
   "outputs": [],
   "source": [
    "from scipy import io\n",
    "import pandas as pd\n",
    "import umap # First time you run this enter pip install umap-learn in your Anaconda Prompt\n",
    "import numpy as np\n",
    "from sklearn.model_selection import train_test_split\n",
    "from sklearn.preprocessing import StandardScaler\n",
    "from sklearn.decomposition import PCA \n",
    "from sklearn.cluster import KMeans\n",
    "from sklearn import metrics\n",
    "import matplotlib.pyplot as plt\n",
    "import seaborn as sns\n",
    "from mpl_toolkits.mplot3d import Axes3D\n",
    "%matplotlib inline\n",
    "sns.set(style='white', context='notebook', rc={'figure.figsize':(14,10)})"
   ]
  },
  {
   "cell_type": "code",
   "execution_count": 2,
   "metadata": {},
   "outputs": [],
   "source": [
    "norm = 'E-GEOD-100911.aggregated_filtered_normalised_counts.mtx'\n",
    "c = 'E-GEOD-100911.aggregated_filtered_normalised_counts.mtx_cols'\n",
    "r = 'E-GEOD-100911.aggregated_filtered_normalised_counts.mtx_rows'\n",
    "cols = []\n",
    "rows = []\n",
    "data = io.mmread(norm)\n",
    "with open(c) as file:\n",
    "    for line in file:\n",
    "        cols.append(line.rstrip())\n",
    "\n",
    "# with open(r) as file:\n",
    "#     for line in file:\n",
    "#         rows.append(line.rstrip().split('\\t')[0])\n",
    "# arr = data.toarray()"
   ]
  },
  {
   "cell_type": "code",
   "execution_count": 4,
   "metadata": {
    "scrolled": true
   },
   "outputs": [],
   "source": [
    "# norm_counts = pd.DataFrame(arr, index = rows, columns = cols)\n",
    "# norm_counts.info()"
   ]
  },
  {
   "cell_type": "code",
   "execution_count": 5,
   "metadata": {},
   "outputs": [],
   "source": [
    "# This was run to convert the gene transcript IDs to KEGG IDs, since this process took so long\n",
    "# the result was saved to a csv (geneID.csv) file and this code is not needed anymore. \n",
    "\n",
    "# from Bio import Entrez\n",
    "# import time\n",
    "# import csv\n",
    "\n",
    "# Entrez.email = \"mdpouls1@gmail.com\"\n",
    "# geneIDs = []\n",
    "# rowsTest = rows[15000:]\n",
    "# i = 0\n",
    "# while i < len(rowsTest):\n",
    "#     for t in range(3):\n",
    "#         if i < len(rowsTest):\n",
    "#             handle = Entrez.esearch(db=\"gene\", term=rowsTest[i])\n",
    "#             record = Entrez.read(handle)\n",
    "#             if len(record['IdList']) == 1:\n",
    "#                 geneIDs.append(record['IdList'][0])\n",
    "#             elif len(record['IdList']) > 1:\n",
    "#                 geneIDs.append('multiple')\n",
    "#             else:\n",
    "#                 geneIDs.append('NaN')\n",
    "#             handle.close()\n",
    "#             i += 1\n",
    "#     time.sleep(1)\n",
    "\n",
    "# with open('geneID.csv', 'a') as f:\n",
    "#     for gene in geneIDs:\n",
    "#         f.write('{},'.format(gene))\n"
   ]
  },
  {
   "cell_type": "code",
   "execution_count": 6,
   "metadata": {},
   "outputs": [],
   "source": [
    "ID_Data = pd.read_csv('geneID.csv')\n",
    "IDs = ID_Data.columns"
   ]
  },
  {
   "cell_type": "code",
   "execution_count": 7,
   "metadata": {},
   "outputs": [],
   "source": [
    "# norm_counts['geneIDs'] = IDs\n",
    "# norm_counts.head(10)"
   ]
  },
  {
   "cell_type": "code",
   "execution_count": 8,
   "metadata": {},
   "outputs": [],
   "source": [
    "# with open('dataFile.txt', 'w') as file:\n",
    "#     file.write(' '.join(norm_counts['geneIDs'].to_list()))"
   ]
  },
  {
   "cell_type": "code",
   "execution_count": 9,
   "metadata": {},
   "outputs": [],
   "source": [
    "annotationData = pd.read_table('uniprotData.tab')"
   ]
  },
  {
   "cell_type": "code",
   "execution_count": 10,
   "metadata": {},
   "outputs": [],
   "source": [
    "annotationData = annotationData.rename(columns={\"yourlist:M20210331A94466D2655679D1FD8953E075198DA81B3BDFU\": \"Ids\"})"
   ]
  },
  {
   "cell_type": "code",
   "execution_count": 11,
   "metadata": {},
   "outputs": [],
   "source": [
    "annotationData = annotationData.drop(\"yourlist:M20210331A94466D2655679D1FD8953E075198DA81B3B2BO\", axis=1)"
   ]
  },
  {
   "cell_type": "code",
   "execution_count": 12,
   "metadata": {},
   "outputs": [
    {
     "data": {
      "text/html": [
       "<div>\n",
       "<style scoped>\n",
       "    .dataframe tbody tr th:only-of-type {\n",
       "        vertical-align: middle;\n",
       "    }\n",
       "\n",
       "    .dataframe tbody tr th {\n",
       "        vertical-align: top;\n",
       "    }\n",
       "\n",
       "    .dataframe thead th {\n",
       "        text-align: right;\n",
       "    }\n",
       "</style>\n",
       "<table border=\"1\" class=\"dataframe\">\n",
       "  <thead>\n",
       "    <tr style=\"text-align: right;\">\n",
       "      <th></th>\n",
       "      <th>Ids</th>\n",
       "      <th>Entry</th>\n",
       "      <th>Entry name</th>\n",
       "      <th>Status</th>\n",
       "      <th>Protein names</th>\n",
       "      <th>Gene names</th>\n",
       "      <th>Organism</th>\n",
       "      <th>Length</th>\n",
       "      <th>Pathway</th>\n",
       "      <th>Function [CC]</th>\n",
       "      <th>Tissue specificity</th>\n",
       "      <th>Developmental stage</th>\n",
       "      <th>Gene ontology (biological process)</th>\n",
       "      <th>Gene ontology IDs</th>\n",
       "      <th>Cross-reference (KEGG)</th>\n",
       "      <th>Annotation</th>\n",
       "      <th>Keywords</th>\n",
       "    </tr>\n",
       "  </thead>\n",
       "  <tbody>\n",
       "    <tr>\n",
       "      <th>0</th>\n",
       "      <td>368418</td>\n",
       "      <td>Q90X48</td>\n",
       "      <td>S35A5_DANRE</td>\n",
       "      <td>reviewed</td>\n",
       "      <td>Probable UDP-sugar transporter protein SLC35A5...</td>\n",
       "      <td>slc35a5 si:bZ20I5.1 zgc:66231</td>\n",
       "      <td>Danio rerio (Zebrafish) (Brachydanio rerio)</td>\n",
       "      <td>440</td>\n",
       "      <td>NaN</td>\n",
       "      <td>NaN</td>\n",
       "      <td>NaN</td>\n",
       "      <td>NaN</td>\n",
       "      <td>carbohydrate transport [GO:0008643]</td>\n",
       "      <td>GO:0005794; GO:0008643; GO:0015165; GO:0030173</td>\n",
       "      <td>dre:368418;</td>\n",
       "      <td>2 out of 5</td>\n",
       "      <td>Glycoprotein;Membrane;Reference proteome;Sugar...</td>\n",
       "    </tr>\n",
       "    <tr>\n",
       "      <th>1</th>\n",
       "      <td>64604</td>\n",
       "      <td>Q90X44</td>\n",
       "      <td>NRF1_DANRE</td>\n",
       "      <td>reviewed</td>\n",
       "      <td>Nuclear respiratory factor 1 (Nrf-1) (Not real...</td>\n",
       "      <td>nrf1</td>\n",
       "      <td>Danio rerio (Zebrafish) (Brachydanio rerio)</td>\n",
       "      <td>514</td>\n",
       "      <td>NaN</td>\n",
       "      <td>FUNCTION: Probable transcription factor that i...</td>\n",
       "      <td>NaN</td>\n",
       "      <td>DEVELOPMENTAL STAGE: Expressed in the developi...</td>\n",
       "      <td>cellular response to cold [GO:0070417]; multic...</td>\n",
       "      <td>GO:0000978; GO:0001046; GO:0001895; GO:0003407...</td>\n",
       "      <td>dre:64604;</td>\n",
       "      <td>5 out of 5</td>\n",
       "      <td>Activator;Alternative splicing;DNA-binding;Dev...</td>\n",
       "    </tr>\n",
       "    <tr>\n",
       "      <th>2</th>\n",
       "      <td>368425</td>\n",
       "      <td>Q7ZUF3</td>\n",
       "      <td>Q7ZUF3_DANRE</td>\n",
       "      <td>unreviewed</td>\n",
       "      <td>Ube2h protein (Ubiquitin-conjugating enzyme E2...</td>\n",
       "      <td>ube2h</td>\n",
       "      <td>Danio rerio (Zebrafish) (Brachydanio rerio)</td>\n",
       "      <td>183</td>\n",
       "      <td>NaN</td>\n",
       "      <td>NaN</td>\n",
       "      <td>NaN</td>\n",
       "      <td>NaN</td>\n",
       "      <td>protein polyubiquitination [GO:0000209]; ubiqu...</td>\n",
       "      <td>GO:0000209; GO:0005524; GO:0005634; GO:0006511...</td>\n",
       "      <td>dre:368425;</td>\n",
       "      <td>2 out of 5</td>\n",
       "      <td>ATP-binding;Nucleotide-binding;Proteomics iden...</td>\n",
       "    </tr>\n",
       "    <tr>\n",
       "      <th>3</th>\n",
       "      <td>327272</td>\n",
       "      <td>Q6P2U7</td>\n",
       "      <td>Q6P2U7_DANRE</td>\n",
       "      <td>unreviewed</td>\n",
       "      <td>Na(+)/H(+) exchange regulatory cofactor NHE-RF</td>\n",
       "      <td>slc9a3r1a slc9a3r1 slc9a3r2</td>\n",
       "      <td>Danio rerio (Zebrafish) (Brachydanio rerio)</td>\n",
       "      <td>384</td>\n",
       "      <td>NaN</td>\n",
       "      <td>FUNCTION: Scaffold protein that connects plasm...</td>\n",
       "      <td>NaN</td>\n",
       "      <td>NaN</td>\n",
       "      <td>otic vesicle development [GO:0071599]; protein...</td>\n",
       "      <td>GO:0001726; GO:0005102; GO:0005902; GO:0006612...</td>\n",
       "      <td>dre:327272;</td>\n",
       "      <td>4 out of 5</td>\n",
       "      <td>Cell projection;Membrane;Proteomics identifica...</td>\n",
       "    </tr>\n",
       "    <tr>\n",
       "      <th>4</th>\n",
       "      <td>327272</td>\n",
       "      <td>Q7ZVX1</td>\n",
       "      <td>Q7ZVX1_DANRE</td>\n",
       "      <td>unreviewed</td>\n",
       "      <td>Na(+)/H(+) exchange regulatory cofactor NHE-RF</td>\n",
       "      <td>slc9a3r1a slc9a3r1 slc9a3r2</td>\n",
       "      <td>Danio rerio (Zebrafish) (Brachydanio rerio)</td>\n",
       "      <td>386</td>\n",
       "      <td>NaN</td>\n",
       "      <td>FUNCTION: Scaffold protein that connects plasm...</td>\n",
       "      <td>NaN</td>\n",
       "      <td>NaN</td>\n",
       "      <td>otic vesicle development [GO:0071599]; protein...</td>\n",
       "      <td>GO:0001726; GO:0005102; GO:0005902; GO:0006612...</td>\n",
       "      <td>dre:327272;</td>\n",
       "      <td>4 out of 5</td>\n",
       "      <td>Cell projection;Membrane</td>\n",
       "    </tr>\n",
       "  </tbody>\n",
       "</table>\n",
       "</div>"
      ],
      "text/plain": [
       "      Ids   Entry    Entry name      Status  \\\n",
       "0  368418  Q90X48   S35A5_DANRE    reviewed   \n",
       "1   64604  Q90X44    NRF1_DANRE    reviewed   \n",
       "2  368425  Q7ZUF3  Q7ZUF3_DANRE  unreviewed   \n",
       "3  327272  Q6P2U7  Q6P2U7_DANRE  unreviewed   \n",
       "4  327272  Q7ZVX1  Q7ZVX1_DANRE  unreviewed   \n",
       "\n",
       "                                       Protein names  \\\n",
       "0  Probable UDP-sugar transporter protein SLC35A5...   \n",
       "1  Nuclear respiratory factor 1 (Nrf-1) (Not real...   \n",
       "2  Ube2h protein (Ubiquitin-conjugating enzyme E2...   \n",
       "3     Na(+)/H(+) exchange regulatory cofactor NHE-RF   \n",
       "4     Na(+)/H(+) exchange regulatory cofactor NHE-RF   \n",
       "\n",
       "                      Gene names                                     Organism  \\\n",
       "0  slc35a5 si:bZ20I5.1 zgc:66231  Danio rerio (Zebrafish) (Brachydanio rerio)   \n",
       "1                           nrf1  Danio rerio (Zebrafish) (Brachydanio rerio)   \n",
       "2                          ube2h  Danio rerio (Zebrafish) (Brachydanio rerio)   \n",
       "3    slc9a3r1a slc9a3r1 slc9a3r2  Danio rerio (Zebrafish) (Brachydanio rerio)   \n",
       "4    slc9a3r1a slc9a3r1 slc9a3r2  Danio rerio (Zebrafish) (Brachydanio rerio)   \n",
       "\n",
       "   Length Pathway                                      Function [CC]  \\\n",
       "0     440     NaN                                                NaN   \n",
       "1     514     NaN  FUNCTION: Probable transcription factor that i...   \n",
       "2     183     NaN                                                NaN   \n",
       "3     384     NaN  FUNCTION: Scaffold protein that connects plasm...   \n",
       "4     386     NaN  FUNCTION: Scaffold protein that connects plasm...   \n",
       "\n",
       "  Tissue specificity                                Developmental stage  \\\n",
       "0                NaN                                                NaN   \n",
       "1                NaN  DEVELOPMENTAL STAGE: Expressed in the developi...   \n",
       "2                NaN                                                NaN   \n",
       "3                NaN                                                NaN   \n",
       "4                NaN                                                NaN   \n",
       "\n",
       "                  Gene ontology (biological process)  \\\n",
       "0                carbohydrate transport [GO:0008643]   \n",
       "1  cellular response to cold [GO:0070417]; multic...   \n",
       "2  protein polyubiquitination [GO:0000209]; ubiqu...   \n",
       "3  otic vesicle development [GO:0071599]; protein...   \n",
       "4  otic vesicle development [GO:0071599]; protein...   \n",
       "\n",
       "                                   Gene ontology IDs Cross-reference (KEGG)  \\\n",
       "0     GO:0005794; GO:0008643; GO:0015165; GO:0030173            dre:368418;   \n",
       "1  GO:0000978; GO:0001046; GO:0001895; GO:0003407...             dre:64604;   \n",
       "2  GO:0000209; GO:0005524; GO:0005634; GO:0006511...            dre:368425;   \n",
       "3  GO:0001726; GO:0005102; GO:0005902; GO:0006612...            dre:327272;   \n",
       "4  GO:0001726; GO:0005102; GO:0005902; GO:0006612...            dre:327272;   \n",
       "\n",
       "   Annotation                                           Keywords  \n",
       "0  2 out of 5  Glycoprotein;Membrane;Reference proteome;Sugar...  \n",
       "1  5 out of 5  Activator;Alternative splicing;DNA-binding;Dev...  \n",
       "2  2 out of 5  ATP-binding;Nucleotide-binding;Proteomics iden...  \n",
       "3  4 out of 5  Cell projection;Membrane;Proteomics identifica...  \n",
       "4  4 out of 5                           Cell projection;Membrane  "
      ]
     },
     "execution_count": 12,
     "metadata": {},
     "output_type": "execute_result"
    }
   ],
   "source": [
    "annotationData.head()\n"
   ]
  },
  {
   "cell_type": "code",
   "execution_count": 13,
   "metadata": {},
   "outputs": [],
   "source": [
    "import pandas as pd\n",
    "norm_counts = pd.read_csv('norm_counts_data.csv')\n"
   ]
  },
  {
   "cell_type": "code",
   "execution_count": 14,
   "metadata": {},
   "outputs": [
    {
     "data": {
      "text/html": [
       "<div>\n",
       "<style scoped>\n",
       "    .dataframe tbody tr th:only-of-type {\n",
       "        vertical-align: middle;\n",
       "    }\n",
       "\n",
       "    .dataframe tbody tr th {\n",
       "        vertical-align: top;\n",
       "    }\n",
       "\n",
       "    .dataframe thead th {\n",
       "        text-align: right;\n",
       "    }\n",
       "</style>\n",
       "<table border=\"1\" class=\"dataframe\">\n",
       "  <thead>\n",
       "    <tr style=\"text-align: right;\">\n",
       "      <th>Unnamed: 0</th>\n",
       "      <th>ENSDARG00000000001</th>\n",
       "      <th>ENSDARG00000000018</th>\n",
       "      <th>ENSDARG00000000019</th>\n",
       "      <th>ENSDARG00000000068</th>\n",
       "      <th>ENSDARG00000000069</th>\n",
       "      <th>ENSDARG00000000086</th>\n",
       "      <th>ENSDARG00000000103</th>\n",
       "      <th>ENSDARG00000000142</th>\n",
       "      <th>ENSDARG00000000151</th>\n",
       "      <th>ENSDARG00000000183</th>\n",
       "      <th>...</th>\n",
       "      <th>ENSDARG00000117145</th>\n",
       "      <th>ENSDARG00000117155</th>\n",
       "      <th>ENSDARG00000117156</th>\n",
       "      <th>ENSDARG00000117159</th>\n",
       "      <th>ENSDARG00000117163</th>\n",
       "      <th>ENSDARG00000117174</th>\n",
       "      <th>ENSDARG00000117179</th>\n",
       "      <th>ENSDARG00000117185</th>\n",
       "      <th>ENSDARG00000117193</th>\n",
       "      <th>ENSDARG00000117200</th>\n",
       "    </tr>\n",
       "  </thead>\n",
       "  <tbody>\n",
       "    <tr>\n",
       "      <th>SRR5810686</th>\n",
       "      <td>0</td>\n",
       "      <td>0</td>\n",
       "      <td>0</td>\n",
       "      <td>0</td>\n",
       "      <td>108.114</td>\n",
       "      <td>0</td>\n",
       "      <td>0</td>\n",
       "      <td>0</td>\n",
       "      <td>0</td>\n",
       "      <td>0</td>\n",
       "      <td>...</td>\n",
       "      <td>0</td>\n",
       "      <td>0</td>\n",
       "      <td>0</td>\n",
       "      <td>0</td>\n",
       "      <td>0</td>\n",
       "      <td>12.317</td>\n",
       "      <td>0</td>\n",
       "      <td>0</td>\n",
       "      <td>0</td>\n",
       "      <td>43.3145</td>\n",
       "    </tr>\n",
       "    <tr>\n",
       "      <th>SRR5810687</th>\n",
       "      <td>0</td>\n",
       "      <td>0</td>\n",
       "      <td>0</td>\n",
       "      <td>0</td>\n",
       "      <td>477.412</td>\n",
       "      <td>0</td>\n",
       "      <td>0</td>\n",
       "      <td>0</td>\n",
       "      <td>23.7626</td>\n",
       "      <td>0</td>\n",
       "      <td>...</td>\n",
       "      <td>0</td>\n",
       "      <td>0</td>\n",
       "      <td>0</td>\n",
       "      <td>0</td>\n",
       "      <td>0</td>\n",
       "      <td>42.1412</td>\n",
       "      <td>0</td>\n",
       "      <td>0</td>\n",
       "      <td>0</td>\n",
       "      <td>0</td>\n",
       "    </tr>\n",
       "    <tr>\n",
       "      <th>SRR5810688</th>\n",
       "      <td>0</td>\n",
       "      <td>0</td>\n",
       "      <td>0</td>\n",
       "      <td>0</td>\n",
       "      <td>0</td>\n",
       "      <td>21.6638</td>\n",
       "      <td>0</td>\n",
       "      <td>0</td>\n",
       "      <td>0</td>\n",
       "      <td>0</td>\n",
       "      <td>...</td>\n",
       "      <td>0</td>\n",
       "      <td>0</td>\n",
       "      <td>0</td>\n",
       "      <td>0</td>\n",
       "      <td>0</td>\n",
       "      <td>15.2411</td>\n",
       "      <td>0</td>\n",
       "      <td>0</td>\n",
       "      <td>0.929224</td>\n",
       "      <td>75.6355</td>\n",
       "    </tr>\n",
       "    <tr>\n",
       "      <th>SRR5810689</th>\n",
       "      <td>0</td>\n",
       "      <td>0</td>\n",
       "      <td>0</td>\n",
       "      <td>0</td>\n",
       "      <td>0</td>\n",
       "      <td>0</td>\n",
       "      <td>0</td>\n",
       "      <td>0</td>\n",
       "      <td>0</td>\n",
       "      <td>0</td>\n",
       "      <td>...</td>\n",
       "      <td>0</td>\n",
       "      <td>0</td>\n",
       "      <td>0</td>\n",
       "      <td>0</td>\n",
       "      <td>0</td>\n",
       "      <td>3.42728e-07</td>\n",
       "      <td>0</td>\n",
       "      <td>0</td>\n",
       "      <td>0</td>\n",
       "      <td>0</td>\n",
       "    </tr>\n",
       "    <tr>\n",
       "      <th>SRR5810690</th>\n",
       "      <td>3.02173</td>\n",
       "      <td>0</td>\n",
       "      <td>0</td>\n",
       "      <td>0</td>\n",
       "      <td>342.167</td>\n",
       "      <td>0</td>\n",
       "      <td>0</td>\n",
       "      <td>0</td>\n",
       "      <td>0</td>\n",
       "      <td>0</td>\n",
       "      <td>...</td>\n",
       "      <td>0</td>\n",
       "      <td>0</td>\n",
       "      <td>11.311</td>\n",
       "      <td>0</td>\n",
       "      <td>6.81204</td>\n",
       "      <td>9.55599</td>\n",
       "      <td>0</td>\n",
       "      <td>0</td>\n",
       "      <td>0</td>\n",
       "      <td>35.2535</td>\n",
       "    </tr>\n",
       "  </tbody>\n",
       "</table>\n",
       "<p>5 rows × 17432 columns</p>\n",
       "</div>"
      ],
      "text/plain": [
       "Unnamed: 0 ENSDARG00000000001 ENSDARG00000000018 ENSDARG00000000019  \\\n",
       "SRR5810686                  0                  0                  0   \n",
       "SRR5810687                  0                  0                  0   \n",
       "SRR5810688                  0                  0                  0   \n",
       "SRR5810689                  0                  0                  0   \n",
       "SRR5810690            3.02173                  0                  0   \n",
       "\n",
       "Unnamed: 0 ENSDARG00000000068 ENSDARG00000000069 ENSDARG00000000086  \\\n",
       "SRR5810686                  0            108.114                  0   \n",
       "SRR5810687                  0            477.412                  0   \n",
       "SRR5810688                  0                  0            21.6638   \n",
       "SRR5810689                  0                  0                  0   \n",
       "SRR5810690                  0            342.167                  0   \n",
       "\n",
       "Unnamed: 0 ENSDARG00000000103 ENSDARG00000000142 ENSDARG00000000151  \\\n",
       "SRR5810686                  0                  0                  0   \n",
       "SRR5810687                  0                  0            23.7626   \n",
       "SRR5810688                  0                  0                  0   \n",
       "SRR5810689                  0                  0                  0   \n",
       "SRR5810690                  0                  0                  0   \n",
       "\n",
       "Unnamed: 0 ENSDARG00000000183  ... ENSDARG00000117145 ENSDARG00000117155  \\\n",
       "SRR5810686                  0  ...                  0                  0   \n",
       "SRR5810687                  0  ...                  0                  0   \n",
       "SRR5810688                  0  ...                  0                  0   \n",
       "SRR5810689                  0  ...                  0                  0   \n",
       "SRR5810690                  0  ...                  0                  0   \n",
       "\n",
       "Unnamed: 0 ENSDARG00000117156 ENSDARG00000117159 ENSDARG00000117163  \\\n",
       "SRR5810686                  0                  0                  0   \n",
       "SRR5810687                  0                  0                  0   \n",
       "SRR5810688                  0                  0                  0   \n",
       "SRR5810689                  0                  0                  0   \n",
       "SRR5810690             11.311                  0            6.81204   \n",
       "\n",
       "Unnamed: 0 ENSDARG00000117174 ENSDARG00000117179 ENSDARG00000117185  \\\n",
       "SRR5810686             12.317                  0                  0   \n",
       "SRR5810687            42.1412                  0                  0   \n",
       "SRR5810688            15.2411                  0                  0   \n",
       "SRR5810689        3.42728e-07                  0                  0   \n",
       "SRR5810690            9.55599                  0                  0   \n",
       "\n",
       "Unnamed: 0 ENSDARG00000117193 ENSDARG00000117200  \n",
       "SRR5810686                  0            43.3145  \n",
       "SRR5810687                  0                  0  \n",
       "SRR5810688           0.929224            75.6355  \n",
       "SRR5810689                  0                  0  \n",
       "SRR5810690                  0            35.2535  \n",
       "\n",
       "[5 rows x 17432 columns]"
      ]
     },
     "execution_count": 14,
     "metadata": {},
     "output_type": "execute_result"
    }
   ],
   "source": [
    "norm_counts = norm_counts.set_index('Unnamed: 0')\n",
    "norm_transpose = norm_counts.transpose()\n",
    "norm_transpose.head()"
   ]
  },
  {
   "cell_type": "code",
   "execution_count": 15,
   "metadata": {},
   "outputs": [
    {
     "data": {
      "text/html": [
       "<div>\n",
       "<style scoped>\n",
       "    .dataframe tbody tr th:only-of-type {\n",
       "        vertical-align: middle;\n",
       "    }\n",
       "\n",
       "    .dataframe tbody tr th {\n",
       "        vertical-align: top;\n",
       "    }\n",
       "\n",
       "    .dataframe thead th {\n",
       "        text-align: right;\n",
       "    }\n",
       "</style>\n",
       "<table border=\"1\" class=\"dataframe\">\n",
       "  <thead>\n",
       "    <tr style=\"text-align: right;\">\n",
       "      <th>Unnamed: 0</th>\n",
       "      <th>ENSDARG00000000001</th>\n",
       "      <th>ENSDARG00000000018</th>\n",
       "      <th>ENSDARG00000000019</th>\n",
       "      <th>ENSDARG00000000068</th>\n",
       "      <th>ENSDARG00000000069</th>\n",
       "      <th>ENSDARG00000000086</th>\n",
       "      <th>ENSDARG00000000103</th>\n",
       "      <th>ENSDARG00000000142</th>\n",
       "      <th>ENSDARG00000000151</th>\n",
       "      <th>ENSDARG00000000183</th>\n",
       "      <th>...</th>\n",
       "      <th>ENSDARG00000117145</th>\n",
       "      <th>ENSDARG00000117155</th>\n",
       "      <th>ENSDARG00000117156</th>\n",
       "      <th>ENSDARG00000117159</th>\n",
       "      <th>ENSDARG00000117163</th>\n",
       "      <th>ENSDARG00000117174</th>\n",
       "      <th>ENSDARG00000117179</th>\n",
       "      <th>ENSDARG00000117185</th>\n",
       "      <th>ENSDARG00000117193</th>\n",
       "      <th>ENSDARG00000117200</th>\n",
       "    </tr>\n",
       "  </thead>\n",
       "  <tbody>\n",
       "    <tr>\n",
       "      <th>SRR5810686</th>\n",
       "      <td>0</td>\n",
       "      <td>0</td>\n",
       "      <td>0</td>\n",
       "      <td>0</td>\n",
       "      <td>108.114</td>\n",
       "      <td>0</td>\n",
       "      <td>0</td>\n",
       "      <td>0</td>\n",
       "      <td>0</td>\n",
       "      <td>0</td>\n",
       "      <td>...</td>\n",
       "      <td>0</td>\n",
       "      <td>0</td>\n",
       "      <td>0</td>\n",
       "      <td>0</td>\n",
       "      <td>0</td>\n",
       "      <td>12.317</td>\n",
       "      <td>0</td>\n",
       "      <td>0</td>\n",
       "      <td>0</td>\n",
       "      <td>43.3145</td>\n",
       "    </tr>\n",
       "    <tr>\n",
       "      <th>SRR5810687</th>\n",
       "      <td>0</td>\n",
       "      <td>0</td>\n",
       "      <td>0</td>\n",
       "      <td>0</td>\n",
       "      <td>477.412</td>\n",
       "      <td>0</td>\n",
       "      <td>0</td>\n",
       "      <td>0</td>\n",
       "      <td>23.7626</td>\n",
       "      <td>0</td>\n",
       "      <td>...</td>\n",
       "      <td>0</td>\n",
       "      <td>0</td>\n",
       "      <td>0</td>\n",
       "      <td>0</td>\n",
       "      <td>0</td>\n",
       "      <td>42.1412</td>\n",
       "      <td>0</td>\n",
       "      <td>0</td>\n",
       "      <td>0</td>\n",
       "      <td>0</td>\n",
       "    </tr>\n",
       "    <tr>\n",
       "      <th>SRR5810688</th>\n",
       "      <td>0</td>\n",
       "      <td>0</td>\n",
       "      <td>0</td>\n",
       "      <td>0</td>\n",
       "      <td>0</td>\n",
       "      <td>21.6638</td>\n",
       "      <td>0</td>\n",
       "      <td>0</td>\n",
       "      <td>0</td>\n",
       "      <td>0</td>\n",
       "      <td>...</td>\n",
       "      <td>0</td>\n",
       "      <td>0</td>\n",
       "      <td>0</td>\n",
       "      <td>0</td>\n",
       "      <td>0</td>\n",
       "      <td>15.2411</td>\n",
       "      <td>0</td>\n",
       "      <td>0</td>\n",
       "      <td>0.929224</td>\n",
       "      <td>75.6355</td>\n",
       "    </tr>\n",
       "    <tr>\n",
       "      <th>SRR5810689</th>\n",
       "      <td>0</td>\n",
       "      <td>0</td>\n",
       "      <td>0</td>\n",
       "      <td>0</td>\n",
       "      <td>0</td>\n",
       "      <td>0</td>\n",
       "      <td>0</td>\n",
       "      <td>0</td>\n",
       "      <td>0</td>\n",
       "      <td>0</td>\n",
       "      <td>...</td>\n",
       "      <td>0</td>\n",
       "      <td>0</td>\n",
       "      <td>0</td>\n",
       "      <td>0</td>\n",
       "      <td>0</td>\n",
       "      <td>3.42728e-07</td>\n",
       "      <td>0</td>\n",
       "      <td>0</td>\n",
       "      <td>0</td>\n",
       "      <td>0</td>\n",
       "    </tr>\n",
       "    <tr>\n",
       "      <th>SRR5810690</th>\n",
       "      <td>3.02173</td>\n",
       "      <td>0</td>\n",
       "      <td>0</td>\n",
       "      <td>0</td>\n",
       "      <td>342.167</td>\n",
       "      <td>0</td>\n",
       "      <td>0</td>\n",
       "      <td>0</td>\n",
       "      <td>0</td>\n",
       "      <td>0</td>\n",
       "      <td>...</td>\n",
       "      <td>0</td>\n",
       "      <td>0</td>\n",
       "      <td>11.311</td>\n",
       "      <td>0</td>\n",
       "      <td>6.81204</td>\n",
       "      <td>9.55599</td>\n",
       "      <td>0</td>\n",
       "      <td>0</td>\n",
       "      <td>0</td>\n",
       "      <td>35.2535</td>\n",
       "    </tr>\n",
       "    <tr>\n",
       "      <th>...</th>\n",
       "      <td>...</td>\n",
       "      <td>...</td>\n",
       "      <td>...</td>\n",
       "      <td>...</td>\n",
       "      <td>...</td>\n",
       "      <td>...</td>\n",
       "      <td>...</td>\n",
       "      <td>...</td>\n",
       "      <td>...</td>\n",
       "      <td>...</td>\n",
       "      <td>...</td>\n",
       "      <td>...</td>\n",
       "      <td>...</td>\n",
       "      <td>...</td>\n",
       "      <td>...</td>\n",
       "      <td>...</td>\n",
       "      <td>...</td>\n",
       "      <td>...</td>\n",
       "      <td>...</td>\n",
       "      <td>...</td>\n",
       "      <td>...</td>\n",
       "    </tr>\n",
       "    <tr>\n",
       "      <th>SRR5810927</th>\n",
       "      <td>0</td>\n",
       "      <td>0</td>\n",
       "      <td>0</td>\n",
       "      <td>0</td>\n",
       "      <td>0</td>\n",
       "      <td>0</td>\n",
       "      <td>0</td>\n",
       "      <td>0</td>\n",
       "      <td>0</td>\n",
       "      <td>0</td>\n",
       "      <td>...</td>\n",
       "      <td>0</td>\n",
       "      <td>0</td>\n",
       "      <td>0</td>\n",
       "      <td>0</td>\n",
       "      <td>0</td>\n",
       "      <td>0</td>\n",
       "      <td>0</td>\n",
       "      <td>0</td>\n",
       "      <td>0</td>\n",
       "      <td>0</td>\n",
       "    </tr>\n",
       "    <tr>\n",
       "      <th>SRR5810928</th>\n",
       "      <td>3123.14</td>\n",
       "      <td>0</td>\n",
       "      <td>211.692</td>\n",
       "      <td>0</td>\n",
       "      <td>0</td>\n",
       "      <td>0</td>\n",
       "      <td>0</td>\n",
       "      <td>0</td>\n",
       "      <td>0</td>\n",
       "      <td>0</td>\n",
       "      <td>...</td>\n",
       "      <td>0</td>\n",
       "      <td>0</td>\n",
       "      <td>0</td>\n",
       "      <td>0</td>\n",
       "      <td>0</td>\n",
       "      <td>0</td>\n",
       "      <td>0</td>\n",
       "      <td>0</td>\n",
       "      <td>0</td>\n",
       "      <td>0</td>\n",
       "    </tr>\n",
       "    <tr>\n",
       "      <th>SRR5810929</th>\n",
       "      <td>0</td>\n",
       "      <td>0</td>\n",
       "      <td>0</td>\n",
       "      <td>0</td>\n",
       "      <td>0</td>\n",
       "      <td>0</td>\n",
       "      <td>164.376</td>\n",
       "      <td>0</td>\n",
       "      <td>0</td>\n",
       "      <td>0</td>\n",
       "      <td>...</td>\n",
       "      <td>0</td>\n",
       "      <td>0</td>\n",
       "      <td>0</td>\n",
       "      <td>0</td>\n",
       "      <td>0</td>\n",
       "      <td>1.29792e-05</td>\n",
       "      <td>0</td>\n",
       "      <td>0</td>\n",
       "      <td>0</td>\n",
       "      <td>0</td>\n",
       "    </tr>\n",
       "    <tr>\n",
       "      <th>SRR5810930</th>\n",
       "      <td>0</td>\n",
       "      <td>0</td>\n",
       "      <td>168.699</td>\n",
       "      <td>0.860707</td>\n",
       "      <td>0</td>\n",
       "      <td>0</td>\n",
       "      <td>0</td>\n",
       "      <td>0</td>\n",
       "      <td>82.6278</td>\n",
       "      <td>0</td>\n",
       "      <td>...</td>\n",
       "      <td>0.860707</td>\n",
       "      <td>0</td>\n",
       "      <td>0</td>\n",
       "      <td>0</td>\n",
       "      <td>0</td>\n",
       "      <td>11.907</td>\n",
       "      <td>0</td>\n",
       "      <td>0</td>\n",
       "      <td>0</td>\n",
       "      <td>0</td>\n",
       "    </tr>\n",
       "    <tr>\n",
       "      <th>SRR5810931</th>\n",
       "      <td>0</td>\n",
       "      <td>612.749</td>\n",
       "      <td>0</td>\n",
       "      <td>0</td>\n",
       "      <td>1.21405</td>\n",
       "      <td>0</td>\n",
       "      <td>65.0067</td>\n",
       "      <td>0</td>\n",
       "      <td>3.61149</td>\n",
       "      <td>0</td>\n",
       "      <td>...</td>\n",
       "      <td>0</td>\n",
       "      <td>0</td>\n",
       "      <td>0</td>\n",
       "      <td>0</td>\n",
       "      <td>0</td>\n",
       "      <td>3.81132</td>\n",
       "      <td>0</td>\n",
       "      <td>0</td>\n",
       "      <td>0</td>\n",
       "      <td>30.2052</td>\n",
       "    </tr>\n",
       "  </tbody>\n",
       "</table>\n",
       "<p>246 rows × 17432 columns</p>\n",
       "</div>"
      ],
      "text/plain": [
       "Unnamed: 0 ENSDARG00000000001 ENSDARG00000000018 ENSDARG00000000019  \\\n",
       "SRR5810686                  0                  0                  0   \n",
       "SRR5810687                  0                  0                  0   \n",
       "SRR5810688                  0                  0                  0   \n",
       "SRR5810689                  0                  0                  0   \n",
       "SRR5810690            3.02173                  0                  0   \n",
       "...                       ...                ...                ...   \n",
       "SRR5810927                  0                  0                  0   \n",
       "SRR5810928            3123.14                  0            211.692   \n",
       "SRR5810929                  0                  0                  0   \n",
       "SRR5810930                  0                  0            168.699   \n",
       "SRR5810931                  0            612.749                  0   \n",
       "\n",
       "Unnamed: 0 ENSDARG00000000068 ENSDARG00000000069 ENSDARG00000000086  \\\n",
       "SRR5810686                  0            108.114                  0   \n",
       "SRR5810687                  0            477.412                  0   \n",
       "SRR5810688                  0                  0            21.6638   \n",
       "SRR5810689                  0                  0                  0   \n",
       "SRR5810690                  0            342.167                  0   \n",
       "...                       ...                ...                ...   \n",
       "SRR5810927                  0                  0                  0   \n",
       "SRR5810928                  0                  0                  0   \n",
       "SRR5810929                  0                  0                  0   \n",
       "SRR5810930           0.860707                  0                  0   \n",
       "SRR5810931                  0            1.21405                  0   \n",
       "\n",
       "Unnamed: 0 ENSDARG00000000103 ENSDARG00000000142 ENSDARG00000000151  \\\n",
       "SRR5810686                  0                  0                  0   \n",
       "SRR5810687                  0                  0            23.7626   \n",
       "SRR5810688                  0                  0                  0   \n",
       "SRR5810689                  0                  0                  0   \n",
       "SRR5810690                  0                  0                  0   \n",
       "...                       ...                ...                ...   \n",
       "SRR5810927                  0                  0                  0   \n",
       "SRR5810928                  0                  0                  0   \n",
       "SRR5810929            164.376                  0                  0   \n",
       "SRR5810930                  0                  0            82.6278   \n",
       "SRR5810931            65.0067                  0            3.61149   \n",
       "\n",
       "Unnamed: 0 ENSDARG00000000183  ... ENSDARG00000117145 ENSDARG00000117155  \\\n",
       "SRR5810686                  0  ...                  0                  0   \n",
       "SRR5810687                  0  ...                  0                  0   \n",
       "SRR5810688                  0  ...                  0                  0   \n",
       "SRR5810689                  0  ...                  0                  0   \n",
       "SRR5810690                  0  ...                  0                  0   \n",
       "...                       ...  ...                ...                ...   \n",
       "SRR5810927                  0  ...                  0                  0   \n",
       "SRR5810928                  0  ...                  0                  0   \n",
       "SRR5810929                  0  ...                  0                  0   \n",
       "SRR5810930                  0  ...           0.860707                  0   \n",
       "SRR5810931                  0  ...                  0                  0   \n",
       "\n",
       "Unnamed: 0 ENSDARG00000117156 ENSDARG00000117159 ENSDARG00000117163  \\\n",
       "SRR5810686                  0                  0                  0   \n",
       "SRR5810687                  0                  0                  0   \n",
       "SRR5810688                  0                  0                  0   \n",
       "SRR5810689                  0                  0                  0   \n",
       "SRR5810690             11.311                  0            6.81204   \n",
       "...                       ...                ...                ...   \n",
       "SRR5810927                  0                  0                  0   \n",
       "SRR5810928                  0                  0                  0   \n",
       "SRR5810929                  0                  0                  0   \n",
       "SRR5810930                  0                  0                  0   \n",
       "SRR5810931                  0                  0                  0   \n",
       "\n",
       "Unnamed: 0 ENSDARG00000117174 ENSDARG00000117179 ENSDARG00000117185  \\\n",
       "SRR5810686             12.317                  0                  0   \n",
       "SRR5810687            42.1412                  0                  0   \n",
       "SRR5810688            15.2411                  0                  0   \n",
       "SRR5810689        3.42728e-07                  0                  0   \n",
       "SRR5810690            9.55599                  0                  0   \n",
       "...                       ...                ...                ...   \n",
       "SRR5810927                  0                  0                  0   \n",
       "SRR5810928                  0                  0                  0   \n",
       "SRR5810929        1.29792e-05                  0                  0   \n",
       "SRR5810930             11.907                  0                  0   \n",
       "SRR5810931            3.81132                  0                  0   \n",
       "\n",
       "Unnamed: 0 ENSDARG00000117193 ENSDARG00000117200  \n",
       "SRR5810686                  0            43.3145  \n",
       "SRR5810687                  0                  0  \n",
       "SRR5810688           0.929224            75.6355  \n",
       "SRR5810689                  0                  0  \n",
       "SRR5810690                  0            35.2535  \n",
       "...                       ...                ...  \n",
       "SRR5810927                  0                  0  \n",
       "SRR5810928                  0                  0  \n",
       "SRR5810929                  0                  0  \n",
       "SRR5810930                  0                  0  \n",
       "SRR5810931                  0            30.2052  \n",
       "\n",
       "[246 rows x 17432 columns]"
      ]
     },
     "execution_count": 15,
     "metadata": {},
     "output_type": "execute_result"
    }
   ],
   "source": [
    "norm_transpose_dropped = norm_transpose.drop('geneIDs')\n",
    "norm_transpose_dropped\n"
   ]
  },
  {
   "cell_type": "code",
   "execution_count": 16,
   "metadata": {},
   "outputs": [],
   "source": [
    "#geneID_dict['64604']"
   ]
  },
  {
   "cell_type": "code",
   "execution_count": 17,
   "metadata": {},
   "outputs": [],
   "source": [
    "# # #comvert the gene ontology codes to dummy columns in a dataframe for each gene ID then saved as a csv. \n",
    "\n",
    "# GO = []\n",
    "# go_dict = {}\n",
    "# for line in annotationData['Gene ontology (biological process)'].str.split(';'):\n",
    "#     if type(line) == list:\n",
    "#         for item in line:\n",
    "#             GO.append(item.strip())\n",
    "\n",
    "# for term in GO:\n",
    "#     if term not in go_dict:\n",
    "#         go_dict[term] = []\n",
    "\n",
    "# for line in annotationData['Gene ontology (biological process)'].str.split(';'):\n",
    "#     item_dict = {}\n",
    "#     if type(line) == list:\n",
    "#         for item in line:\n",
    "#             item_dict[item.strip()] = True\n",
    "#         for k,v in go_dict.items():\n",
    "#             if k in item_dict:\n",
    "#                 v.append(1)\n",
    "#             else:\n",
    "#                 v.append(0)\n",
    "\n",
    "        \n",
    "# go_df = pd.DataFrame.from_dict(go_dict)\n",
    "# go_df['geneId'] = annotationData['Ids']\n",
    "\n",
    "# go_df = go_df.set_index('geneId')\n",
    "# go_df.head()\n",
    "\n",
    "# go_df.to_csv('goData.csv')\n",
    "    "
   ]
  },
  {
   "cell_type": "code",
   "execution_count": 18,
   "metadata": {},
   "outputs": [],
   "source": [
    "# for k,v in go_dict.items():\n",
    "#     print(k)"
   ]
  },
  {
   "cell_type": "code",
   "execution_count": 19,
   "metadata": {},
   "outputs": [],
   "source": [
    "# norm_counts.head()"
   ]
  },
  {
   "cell_type": "code",
   "execution_count": 20,
   "metadata": {},
   "outputs": [],
   "source": [
    "# norm_counts_id = norm_counts.set_index(\"geneIDs\")\n",
    "# new = norm_counts.merge(go_df,left_on='geneIDs', right_on='geneId')\n",
    "# new.head()"
   ]
  },
  {
   "cell_type": "code",
   "execution_count": 21,
   "metadata": {},
   "outputs": [],
   "source": [
    "# new = new.set_index('geneIDs')\n",
    "# new.head()"
   ]
  },
  {
   "cell_type": "code",
   "execution_count": 22,
   "metadata": {},
   "outputs": [],
   "source": [
    "# srr_dict = norm_counts_id.to_dict()"
   ]
  },
  {
   "cell_type": "code",
   "execution_count": 23,
   "metadata": {},
   "outputs": [],
   "source": [
    "# srr_dict['SRR5810686']"
   ]
  },
  {
   "cell_type": "code",
   "execution_count": 24,
   "metadata": {},
   "outputs": [],
   "source": [
    "# gene_dict = go_df.to_dict('split')"
   ]
  },
  {
   "cell_type": "code",
   "execution_count": 25,
   "metadata": {},
   "outputs": [],
   "source": [
    "# geneID_dict = {}\n",
    "# for ind, data in gene_dict.items():\n",
    "#     geneID_dict[ind] = data"
   ]
  },
  {
   "cell_type": "code",
   "execution_count": 26,
   "metadata": {},
   "outputs": [],
   "source": [
    "# srr_dict = norm_counts_id.to_dict()\n",
    "# gene_dict = go_df.to_dict('split')    "
   ]
  },
  {
   "cell_type": "code",
   "execution_count": 27,
   "metadata": {},
   "outputs": [],
   "source": [
    "# geneID_dict = {}\n",
    "# for ind, data in gene_dict.items():\n",
    "#     geneID_dict[ind] = data\n"
   ]
  },
  {
   "cell_type": "code",
   "execution_count": 28,
   "metadata": {},
   "outputs": [],
   "source": [
    "# ids = gene_dict['index']\n",
    "# data = gene_dict['data']\n",
    "\n",
    "# geneID_dict = {}\n",
    "# for i in range(len(ids)):\n",
    "#     geneID_dict[ids[i]] = data[i]"
   ]
  },
  {
   "cell_type": "code",
   "execution_count": 29,
   "metadata": {},
   "outputs": [],
   "source": [
    "# srr_genes_dict_values = {}\n",
    "# for srr,genes in srr_dict.items():\n",
    "#     genes_GO = np.zeros((5075,), dtype=int)\n",
    "#     for gene,value in genes.items():\n",
    "#         if value > 0:\n",
    "#             if gene in geneID_dict:\n",
    "#                 genes_GO = np.add(genes_GO,np.multiply(value, np.array(geneID_dict[gene])))\n",
    "#     srr_genes_dict_values[srr] = genes_GO\n"
   ]
  },
  {
   "cell_type": "code",
   "execution_count": 30,
   "metadata": {},
   "outputs": [],
   "source": [
    "# cols = go_df.columns"
   ]
  },
  {
   "cell_type": "code",
   "execution_count": 31,
   "metadata": {},
   "outputs": [],
   "source": [
    "#gene_annotation_values_df = pd.DataFrame.from_dict(srr_genes_dict_values, orient='index', columns = cols)"
   ]
  },
  {
   "cell_type": "code",
   "execution_count": 32,
   "metadata": {},
   "outputs": [],
   "source": [
    "# gene_annotation_values_df.head()norm_counts['geneIDs'] = IDs\n",
    "# norm_counts.head(10)"
   ]
  },
  {
   "cell_type": "code",
   "execution_count": 33,
   "metadata": {},
   "outputs": [],
   "source": [
    "# norm_counts.to_csv('norm_counts_data.csv')"
   ]
  },
  {
   "cell_type": "code",
   "execution_count": 34,
   "metadata": {},
   "outputs": [],
   "source": [
    "# with open('dataFile.txt', 'w') as file:\n",
    "#     file.write(' '.join(norm_counts['geneIDs'].to_list()))"
   ]
  },
  {
   "cell_type": "code",
   "execution_count": 35,
   "metadata": {},
   "outputs": [],
   "source": [
    "#annotationData = pd.read_table('uniprotData.tab')"
   ]
  },
  {
   "cell_type": "code",
   "execution_count": 36,
   "metadata": {},
   "outputs": [],
   "source": [
    "#gene_annotation_values_df.to_csv('GeneAnnotation.csv')"
   ]
  },
  {
   "cell_type": "code",
   "execution_count": 37,
   "metadata": {},
   "outputs": [],
   "source": [
    "#annotationData = annotationData.drop(\"yourlist:M20210331A94466D2655679D1FD8953E075198DA81B3B2BO\", axis=1)"
   ]
  },
  {
   "cell_type": "code",
   "execution_count": 38,
   "metadata": {},
   "outputs": [],
   "source": [
    "#annotationData.head()"
   ]
  },
  {
   "cell_type": "markdown",
   "metadata": {},
   "source": [
    "# UMAP Reduction:\n",
    "\n",
    "See the UMAP Documentation page for details. The module import cell at the top of this notebook has instructions for downloading the scikit learn plug-in for UMAP.\n",
    "\n",
    "NOTE This is a first pass - I'm not super sure it is ready to go. Next steps\n",
    "\n",
    "1 We need to cluster the data and assign tags to the data points\n",
    "\n",
    "2 Add a third dimension to the UMAP reduction\n",
    "\n",
    "3 Plot data in altair to allow interaction\n",
    "\n",
    "4 Add interaction steps, tags, whatever else we're doing!\n"
   ]
  },
  {
   "cell_type": "code",
   "execution_count": 39,
   "metadata": {},
   "outputs": [],
   "source": [
    "norm_counts_temp = norm_counts\n",
    "norm_counts_temp = norm_counts_temp.drop(['geneIDs'],axis=1).transpose()\n",
    "norm_vals = norm_counts_temp.values"
   ]
  },
  {
   "cell_type": "code",
   "execution_count": 40,
   "metadata": {},
   "outputs": [],
   "source": [
    "norm_vals_scaled = StandardScaler().fit_transform(norm_vals)"
   ]
  },
  {
   "cell_type": "code",
   "execution_count": 41,
   "metadata": {},
   "outputs": [
    {
     "name": "stdout",
     "output_type": "stream",
     "text": [
      "Done\n"
     ]
    }
   ],
   "source": [
    "UMAP_reducer = umap.UMAP()\n",
    "reduced_genes = UMAP_reducer.fit_transform(norm_vals_scaled)\n",
    "print('Done')"
   ]
  },
  {
   "cell_type": "code",
   "execution_count": 42,
   "metadata": {
    "scrolled": false
   },
   "outputs": [
    {
     "data": {
      "image/png": "[encoded data removed]",
      "text/plain": [
       "<Figure size 1008x720 with 1 Axes>"
      ]
     },
     "metadata": {},
     "output_type": "display_data"
    }
   ],
   "source": [
    "plt.scatter(reduced_genes[:,0],reduced_genes[:,1])\n",
    "plt.gca().set_aspect('equal','datalim')\n",
    "plt.title('UMAP projection of Zebra Fish genes, unclustered')\n",
    "plt.show;"
   ]
  },
  {
   "cell_type": "code",
   "execution_count": 43,
   "metadata": {},
   "outputs": [
    {
     "data": {
      "text/plain": [
       "(7, 17432)"
      ]
     },
     "execution_count": 43,
     "metadata": {},
     "output_type": "execute_result"
    }
   ],
   "source": [
    "X = norm_vals_scaled\n",
    "# PCA\n",
    "pca_mod = PCA(n_components = 7)\n",
    "data_pca = pca_mod.fit_transform(X)\n",
    "PCs =pca_mod.components_\n",
    "PCs.shape"
   ]
  },
  {
   "cell_type": "code",
   "execution_count": 44,
   "metadata": {},
   "outputs": [],
   "source": [
    "UMAP_mod = umap.UMAP(n_neighbors = 7, min_dist = 0.2, n_components = 3).fit_transform(X)"
   ]
  },
  {
   "cell_type": "code",
   "execution_count": 45,
   "metadata": {},
   "outputs": [],
   "source": [
    "# K means\n",
    "y_pred = KMeans(n_clusters=7, max_iter=5).fit_predict(X)"
   ]
  },
  {
   "cell_type": "code",
   "execution_count": 48,
   "metadata": {},
   "outputs": [
    {
     "data": {
      "image/png": "[encoded data removed]",
      "text/plain": [
       "<Figure size 1008x720 with 1 Axes>"
      ]
     },
     "metadata": {},
     "output_type": "display_data"
    }
   ],
   "source": [
    "# colors\n",
    "from matplotlib.colors import ListedColormap\n",
    "colors = ListedColormap(sns.color_palette('bright', 7).as_hex())\n",
    "# plot\n",
    "fig = plt.figure()\n",
    "ax = fig.add_subplot(111, projection='3d')\n",
    "ax.scatter(UMAP_mod[:, 0], UMAP_mod[:, 1],zs= UMAP_mod[:, 2], c=y_pred, cmap= colors, s=20)\n",
    "ax.set_xlabel('Dimension 1')\n",
    "ax.set_ylabel('Dimension 2')\n",
    "ax.set_zlabel('Dimension 3')\n",
    "plt.show()"
   ]
  },
  {
   "cell_type": "code",
   "execution_count": 49,
   "metadata": {},
   "outputs": [
    {
     "data": {
      "image/png": "[encoded data removed]",
      "text/plain": [
       "<Figure size 1008x720 with 1 Axes>"
      ]
     },
     "metadata": {},
     "output_type": "display_data"
    }
   ],
   "source": [
    "plt.scatter(UMAP_mod[:,0],UMAP_mod[:,1], c = y_pred, cmap = colors, s=15)\n",
    "plt.gca().set_aspect('equal','datalim')\n",
    "plt.title('UMAP projection of Zebra Fish genes, unclustered')\n",
    "plt.show;"
   ]
  },
  {
   "cell_type": "markdown",
   "metadata": {},
   "source": [
    "## Get top gene ontologies:  \n"
   ]
  },
  {
   "cell_type": "code",
   "execution_count": 58,
   "metadata": {},
   "outputs": [],
   "source": [
    "annotation = pd.read_csv('GeneAnnotation.csv')\n",
    "annot_vals = annotation.values\n",
    "\n",
    "annot_scaled = StandardScaler().fit_transform(annot_vals)\n",
    "\n",
    "\n",
    "# PCA\n",
    "pca_mod = PCA(n_components = 1)\n",
    "data_pca = pca_mod.fit_transform(annot_scaled)\n",
    "PCs =pca_mod.components_"
   ]
  },
  {
   "cell_type": "code",
   "execution_count": 73,
   "metadata": {},
   "outputs": [],
   "source": [
    "PCs_df = pd.DataFrame(PCs)\n",
    "PCs_df = an.transpose()\n",
    "PCs_df[1] = abs(PCs_df[0])\n",
    "topGo = PCs_df[1].sort_values(ascending = False).head(100).index"
   ]
  },
  {
   "cell_type": "code",
   "execution_count": 74,
   "metadata": {},
   "outputs": [
    {
     "data": {
      "text/plain": [
       "Int64Index([ 315,  962, 2527, 2918, 2526, 2525,  697, 2746, 1298, 1949, 2784,\n",
       "            2652,  722,  329, 3718, 2406, 3067,  362, 2958, 4208,  516, 2424,\n",
       "            4019, 4504, 4503, 4070, 3347, 2367, 3641, 1334, 2528, 1885, 3215,\n",
       "            2114,   81, 2518, 3068, 3214, 2549,   86, 2272,  312, 3238, 3348,\n",
       "            1445,  381,   43,  208, 1852, 2185, 2184, 2188, 2189, 2187, 2833,\n",
       "            2098,  313, 1213, 1262,  290, 4054, 1058, 3256,  842,  525,  153,\n",
       "            2010, 1943, 1123,   46, 1092,   54, 2183,  792,  522,  798, 3766,\n",
       "            3763, 3767, 3764, 3765, 1478, 3105,  234,  894,  789,  247, 1068,\n",
       "            2574, 2575, 1517,  778, 1157,  631,  365,  806, 3084, 2431,  335,\n",
       "               0],\n",
       "           dtype='int64')"
      ]
     },
     "execution_count": 74,
     "metadata": {},
     "output_type": "execute_result"
    }
   ],
   "source": [
    "topGo"
   ]
  },
  {
   "cell_type": "markdown",
   "metadata": {},
   "source": [
    "## Visualization:\n",
    "**Overview**\n",
    " - The 'base' plot is the 2-D UMAP plot plotted using Altair. \n",
    " - A user can then select a region-of-interest to create the breakout histogram plots of predominate gene ontology"
   ]
  },
  {
   "cell_type": "code",
   "execution_count": null,
   "metadata": {},
   "outputs": [],
   "source": [
    "import altair as alt"
   ]
  },
  {
   "cell_type": "markdown",
   "metadata": {},
   "source": [
    "### Create visualization dataframe:  \n",
    "**Overview** by creating a dataframe with the reduced dimension data and add in additional properties as necessary (i.e. cluster number, ontology, etc.)  \n",
    "  \n",
    "**To-do:**  \n",
    " - Add cluster IDs\n",
    " - Add gene ontologies\n",
    " - Add primary genes?"
   ]
  },
  {
   "cell_type": "code",
   "execution_count": null,
   "metadata": {},
   "outputs": [],
   "source": [
    "# Create 'base' dataframe:\n",
    "column_names = [\"UMAP x\",\"UMAP y\"]\n",
    "vis_data = pd.DataFrame(reduced_genes, columns = column_names)\n",
    "\n",
    "# Add clusters:\n",
    "vis_data[\"Clusters\"] = y_pred\n",
    "\n",
    "vis_data.head()"
   ]
  },
  {
   "cell_type": "markdown",
   "metadata": {},
   "source": [
    "### Create 'master' plot  \n",
    "**TODO** \n",
    " - Add cluster colors\n",
    " - Add IDs when hovering?\n",
    " - Add ROI selection"
   ]
  },
  {
   "cell_type": "code",
   "execution_count": null,
   "metadata": {},
   "outputs": [],
   "source": [
    "ROI = alt.selection_interval()\n",
    "\n",
    "scatter = alt.Chart(vis_data).mark_point().encode(\n",
    "    alt.X('UMAP x',\n",
    "          scale=alt.Scale(zero=False)\n",
    "         ),\n",
    "    alt.Y('UMAP y',\n",
    "          scale=alt.Scale(zero=False)\n",
    "         ),\n",
    "    color = 'Clusters'\n",
    "    ).add_selection(ROI)\n",
    "\n",
    "# Show chart for development purpose:\n",
    "scatter"
   ]
  },
  {
   "cell_type": "markdown",
   "metadata": {},
   "source": [
    "\n",
    "### Create histogram plot of ontologies:\n",
    "**Thoughts:**\n",
    " - Altair does seem to be one of the easier plotting systems to select data\n",
    " - Altair does not output the indicies of the ROI without an API that may be out there...\n",
    " - I can 'transform' the data using:\n",
    "  - Density Transform | create a vector of all of the ontologies, show a density plot of these ontologies\n",
    "  - "
   ]
  },
  {
   "cell_type": "code",
   "execution_count": null,
   "metadata": {},
   "outputs": [],
   "source": [
    "# Create the base chart:\n",
    "hist_base = alt.Chart(vis_data).mark_bar().encode(\n",
    "    x = 'count()',\n",
    "    y = 'Clusters',\n",
    "    color = 'Clusters'\n",
    ").properties(\n",
    "    width = 500,\n",
    "    height = 200\n",
    ").transform_filter(\n",
    "    ROI\n",
    ")\n",
    "\n",
    "# Filter by interaction:\n",
    "# hist = hist_base.encode()\n",
    "\n",
    "\n",
    "# Display for dev purposes:\n",
    "scatter | hist_base"
   ]
  },
  {
   "cell_type": "markdown",
   "metadata": {},
   "source": [
    "### Display tool!\n",
    "**This is where our interaction is!**"
   ]
  },
  {
   "cell_type": "code",
   "execution_count": null,
   "metadata": {},
   "outputs": [],
   "source": [
    "scatter & hist"
   ]
  },
  {
   "cell_type": "markdown",
   "metadata": {},
   "source": [
    "## Main Dataset"
   ]
  },
  {
   "cell_type": "code",
   "execution_count": null,
   "metadata": {},
   "outputs": [],
   "source": [
    "# unpublished data from cell ranger pipeline\n",
    "# testis1\n",
    "t1data = io.mmread('15756X3/matrix.mtx.gz')\n",
    "t1arr = t1data.toarray()\n",
    "t1col = pd.read_csv('15756X3/barcodes.tsv.gz', compression = 'gzip', header=None, sep = '\\t')\n",
    "t1row = pd.read_csv('15756X3/features.tsv.gz', compression = 'gzip', header=None,sep = '\\t')\n",
    "t1row = t1row[[1]]"
   ]
  },
  {
   "cell_type": "code",
   "execution_count": null,
   "metadata": {
    "scrolled": true
   },
   "outputs": [],
   "source": [
    "t1_counts = pd.DataFrame(t1arr, index = t1row, columns = t1col)\n",
    "t1_counts.info()"
   ]
  }
 ],
 "metadata": {
  "kernelspec": {
   "display_name": "Python 3",
   "language": "python",
   "name": "python3"
  },
  "language_info": {
   "codemirror_mode": {
    "name": "ipython",
    "version": 3
   },
   "file_extension": ".py",
   "mimetype": "text/x-python",
   "name": "python",
   "nbconvert_exporter": "python",
   "pygments_lexer": "ipython3",
   "version": "3.8.1"
  }
 },
 "nbformat": 4,
 "nbformat_minor": 4
}

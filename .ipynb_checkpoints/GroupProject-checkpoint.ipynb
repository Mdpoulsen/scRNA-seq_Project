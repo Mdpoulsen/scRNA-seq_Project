{
 "cells": [
  {
   "cell_type": "code",
   "execution_count": 36,
   "metadata": {},
   "outputs": [],
   "source": [
    "from scipy import io\n",
    "import pandas as pd\n",
    "\n",
    "norm = 'E-GEOD-100911.aggregated_filtered_normalised_counts.mtx'\n",
    "c = 'E-GEOD-100911.aggregated_filtered_normalised_counts.mtx_cols'\n",
    "r = 'E-GEOD-100911.aggregated_filtered_normalised_counts.mtx_rows'\n",
    "cols = []\n",
    "rows = []\n",
    "data = io.mmread(norm)\n",
    "with open(c) as file:\n",
    "    for line in file:\n",
    "        cols.append(line.rstrip())\n",
    "\n",
    "with open(r) as file:\n",
    "    for line in file:\n",
    "        rows.append(line.rstrip().split('\\t')[0])\n",
    "arr = data.toarray()"
   ]
  },
  {
   "cell_type": "code",
   "execution_count": 38,
   "metadata": {},
   "outputs": [
    {
     "name": "stdout",
     "output_type": "stream",
     "text": [
      "<class 'pandas.core.frame.DataFrame'>\n",
      "Index: 17432 entries, ENSDARG00000000001 to ENSDARG00000117200\n",
      "Columns: 246 entries, SRR5810686 to SRR5810931\n",
      "dtypes: float64(246)\n",
      "memory usage: 32.8+ MB\n"
     ]
    }
   ],
   "source": [
    "norm_counts = pd.DataFrame(arr, index = rows, columns = cols)\n",
    "norm_counts.info()"
   ]
  },
  {
   "cell_type": "code",
   "execution_count": null,
   "metadata": {},
   "outputs": [],
   "source": []
  }
 ],
 "metadata": {
  "kernelspec": {
   "display_name": "Python 3",
   "language": "python",
   "name": "python3"
  },
  "language_info": {
   "codemirror_mode": {
    "name": "ipython",
    "version": 3
   },
   "file_extension": ".py",
   "mimetype": "text/x-python",
   "name": "python",
   "nbconvert_exporter": "python",
   "pygments_lexer": "ipython3",
   "version": "3.8.1"
  }
 },
 "nbformat": 4,
 "nbformat_minor": 4
}
